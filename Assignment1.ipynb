{
  "cells": [
    {
      "cell_type": "code",
      "execution_count": 1,
      "metadata": {
        "id": "-T1LPz0lew1w"
      },
      "outputs": [],
      "source": [
        "!mkdir -p ~/.kaggle\n",
        "!cp kaggle.json ~/.kaggle/"
      ]
    },
    {
      "cell_type": "code",
      "execution_count": 2,
      "metadata": {
        "colab": {
          "base_uri": "https://localhost:8080/"
        },
        "id": "LA2pWp7ce1xt",
        "outputId": "63aff93b-ab21-40c7-b61b-61920f09d3cf"
      },
      "outputs": [
        {
          "output_type": "stream",
          "name": "stdout",
          "text": [
            "Warning: Your Kaggle API key is readable by other users on this system! To fix this, you can run 'chmod 600 /root/.kaggle/kaggle.json'\n",
            "Downloading intel-image-classification.zip to /content\n",
            " 98% 341M/346M [00:02<00:00, 218MB/s]\n",
            "100% 346M/346M [00:02<00:00, 180MB/s]\n"
          ]
        }
      ],
      "source": [
        "!kaggle datasets download -d puneet6060/intel-image-classification"
      ]
    },
    {
      "cell_type": "code",
      "execution_count": 3,
      "metadata": {
        "id": "aBv1CCQBe10n"
      },
      "outputs": [],
      "source": [
        "import zipfile\n",
        "zip_ref = zipfile.ZipFile('/content/intel-image-classification.zip' , 'r')\n",
        "zip_ref.extractall('/content')\n",
        "zip_ref.close()"
      ]
    },
    {
      "cell_type": "code",
      "execution_count": 4,
      "metadata": {
        "id": "-iokYv3fe12w"
      },
      "outputs": [],
      "source": [
        "import tensorflow as tf\n",
        "from tensorflow import keras\n",
        "from keras import Sequential\n",
        "from keras.layers import Dense,Conv2D,MaxPooling2D,Flatten"
      ]
    },
    {
      "cell_type": "code",
      "execution_count": 5,
      "metadata": {
        "colab": {
          "base_uri": "https://localhost:8080/"
        },
        "id": "_4Kw-uY4e151",
        "outputId": "5b9fc64d-a3a1-449e-9b04-3cf60ed95554"
      },
      "outputs": [
        {
          "output_type": "stream",
          "name": "stdout",
          "text": [
            "Found 14034 files belonging to 6 classes.\n"
          ]
        }
      ],
      "source": [
        "train_dataset = keras.utils.image_dataset_from_directory(\n",
        "    directory = '/content/seg_train/seg_train',\n",
        "    labels = 'inferred',\n",
        "    label_mode = 'int',\n",
        "    batch_size = 32,\n",
        "    image_size = (224 , 224)\n",
        ")\n",
        "\n",
        "\n"
      ]
    },
    {
      "cell_type": "code",
      "execution_count": 6,
      "metadata": {
        "colab": {
          "base_uri": "https://localhost:8080/"
        },
        "id": "T-Zrw3TAe18u",
        "outputId": "10485ffb-2395-4f35-c2e2-b6cab4487de2"
      },
      "outputs": [
        {
          "output_type": "stream",
          "name": "stdout",
          "text": [
            "Found 3000 files belonging to 6 classes.\n"
          ]
        }
      ],
      "source": [
        "test_dataset = keras.utils.image_dataset_from_directory(\n",
        "    directory = '/content/seg_test/seg_test',\n",
        "    labels = 'inferred',\n",
        "    label_mode = 'int',\n",
        "    batch_size = 32,\n",
        "    image_size = (224 , 224)\n",
        ")"
      ]
    },
    {
      "cell_type": "code",
      "execution_count": 7,
      "metadata": {
        "id": "eJyukupne1_m"
      },
      "outputs": [],
      "source": [
        "model = tf.keras.Sequential([\n",
        "  tf.keras.layers.Rescaling(1./255),\n",
        "  tf.keras.layers.Conv2D(32, 3, activation='relu'),\n",
        "  tf.keras.layers.MaxPooling2D(),\n",
        "  tf.keras.layers.Conv2D(32, 3, activation='relu'),\n",
        "  tf.keras.layers.MaxPooling2D(),\n",
        "  tf.keras.layers.Conv2D(32, 3, activation='relu'),\n",
        "  tf.keras.layers.MaxPooling2D(),\n",
        "  tf.keras.layers.Flatten(),\n",
        "  tf.keras.layers.Dense(128, activation='relu'),\n",
        "  tf.keras.layers.Dense(6)\n",
        "])"
      ]
    },
    {
      "cell_type": "code",
      "execution_count": 8,
      "metadata": {
        "id": "Ll4i5Yo-e2Cc"
      },
      "outputs": [],
      "source": [
        "model.compile(optimizer = 'adam' , loss=tf.keras.losses.SparseCategoricalCrossentropy(from_logits=True), metrics = ['accuracy'])\n"
      ]
    },
    {
      "cell_type": "code",
      "execution_count": 9,
      "metadata": {
        "colab": {
          "base_uri": "https://localhost:8080/"
        },
        "id": "tHG9KJ7we2FV",
        "outputId": "affc8412-90ad-402b-e742-5f354ff70f62"
      },
      "outputs": [
        {
          "output_type": "stream",
          "name": "stdout",
          "text": [
            "Epoch 1/10\n",
            "439/439 [==============================] - 36s 54ms/step - loss: 0.9803 - accuracy: 0.6237 - val_loss: 0.7747 - val_accuracy: 0.7123\n",
            "Epoch 2/10\n",
            "439/439 [==============================] - 25s 55ms/step - loss: 0.6648 - accuracy: 0.7561 - val_loss: 0.7383 - val_accuracy: 0.7310\n",
            "Epoch 3/10\n",
            "439/439 [==============================] - 23s 52ms/step - loss: 0.4913 - accuracy: 0.8224 - val_loss: 0.7183 - val_accuracy: 0.7613\n",
            "Epoch 4/10\n",
            "439/439 [==============================] - 23s 51ms/step - loss: 0.3290 - accuracy: 0.8823 - val_loss: 0.7182 - val_accuracy: 0.7750\n",
            "Epoch 5/10\n",
            "439/439 [==============================] - 23s 52ms/step - loss: 0.2022 - accuracy: 0.9287 - val_loss: 0.8312 - val_accuracy: 0.7777\n",
            "Epoch 6/10\n",
            "439/439 [==============================] - 23s 52ms/step - loss: 0.1393 - accuracy: 0.9505 - val_loss: 0.9487 - val_accuracy: 0.7640\n",
            "Epoch 7/10\n",
            "439/439 [==============================] - 23s 51ms/step - loss: 0.0896 - accuracy: 0.9715 - val_loss: 1.1758 - val_accuracy: 0.7690\n",
            "Epoch 8/10\n",
            "439/439 [==============================] - 22s 49ms/step - loss: 0.0824 - accuracy: 0.9738 - val_loss: 1.3963 - val_accuracy: 0.7457\n",
            "Epoch 9/10\n",
            "439/439 [==============================] - 23s 52ms/step - loss: 0.0655 - accuracy: 0.9793 - val_loss: 1.5661 - val_accuracy: 0.7353\n",
            "Epoch 10/10\n",
            "439/439 [==============================] - 23s 51ms/step - loss: 0.0588 - accuracy: 0.9819 - val_loss: 1.5356 - val_accuracy: 0.7570\n"
          ]
        }
      ],
      "source": [
        "history = model.fit(train_dataset , epochs = 10 , validation_data = test_dataset)"
      ]
    },
    {
      "cell_type": "code",
      "execution_count": 26,
      "metadata": {
        "id": "NDsqFODbe2IM"
      },
      "outputs": [],
      "source": [
        "import matplotlib.pyplot as plt\n",
        "import numpy as np\n",
        "import pandas as pd"
      ]
    },
    {
      "cell_type": "code",
      "execution_count": 13,
      "metadata": {
        "colab": {
          "base_uri": "https://localhost:8080/"
        },
        "id": "QJxGAmZCe2LR",
        "outputId": "1bbe285d-cc78-44af-d9dc-34bef4bb7852"
      },
      "outputs": [
        {
          "output_type": "stream",
          "name": "stdout",
          "text": [
            "94/94 [==============================] - 3s 31ms/step\n"
          ]
        }
      ],
      "source": [
        "predicted = model.predict(test_dataset)\n",
        "\n",
        "predicted_classes = np.argmax(predicted , axis  = 1)"
      ]
    },
    {
      "cell_type": "code",
      "execution_count": 25,
      "metadata": {
        "colab": {
          "base_uri": "https://localhost:8080/"
        },
        "id": "oSYjTfOBe2OL",
        "outputId": "ee2c0e29-6193-4d77-bb8a-4ef47bd390f2"
      },
      "outputs": [
        {
          "output_type": "execute_result",
          "data": {
            "text/plain": [
              "array([3, 2, 2, ..., 3, 2, 0])"
            ]
          },
          "metadata": {},
          "execution_count": 25
        }
      ],
      "source": [
        "predicted_classes"
      ]
    },
    {
      "cell_type": "code",
      "execution_count": 9,
      "metadata": {
        "id": "FWUA-C3je2ap"
      },
      "outputs": [],
      "source": []
    },
    {
      "cell_type": "code",
      "execution_count": 9,
      "metadata": {
        "id": "Ptg7Dp2se2dy"
      },
      "outputs": [],
      "source": []
    },
    {
      "cell_type": "code",
      "execution_count": 9,
      "metadata": {
        "id": "cHolXWoHe2go"
      },
      "outputs": [],
      "source": []
    },
    {
      "cell_type": "code",
      "execution_count": 9,
      "metadata": {
        "id": "mWwE7eX7e2jw"
      },
      "outputs": [],
      "source": []
    },
    {
      "cell_type": "code",
      "execution_count": 9,
      "metadata": {
        "id": "x77yT0Gue2mY"
      },
      "outputs": [],
      "source": []
    },
    {
      "cell_type": "code",
      "execution_count": 9,
      "metadata": {
        "id": "YPkHF4pfe2pE"
      },
      "outputs": [],
      "source": []
    },
    {
      "cell_type": "code",
      "execution_count": 9,
      "metadata": {
        "id": "T5D9NuBre2r2"
      },
      "outputs": [],
      "source": []
    }
  ],
  "metadata": {
    "accelerator": "GPU",
    "colab": {
      "provenance": []
    },
    "kernelspec": {
      "display_name": "Python 3",
      "name": "python3"
    },
    "language_info": {
      "name": "python"
    }
  },
  "nbformat": 4,
  "nbformat_minor": 0
}